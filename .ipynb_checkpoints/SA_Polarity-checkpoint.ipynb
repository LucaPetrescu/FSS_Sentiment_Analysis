{
 "cells": [
  {
   "cell_type": "markdown",
   "metadata": {
    "id": "fpzLBTjhzgxk"
   },
   "source": [
    "**Step1:Prepare a CSV file with comments or statements**"
   ]
  },
  {
   "cell_type": "markdown",
   "metadata": {
    "id": "IWx8nIFZzqjq"
   },
   "source": [
    "**Step 2:Upload CSV file**"
   ]
  },
  {
   "cell_type": "code",
   "execution_count": null,
   "metadata": {
    "colab": {
     "base_uri": "https://localhost:8080/",
     "height": 91,
     "resources": {
      "http://localhost:8080/nbextensions/google.colab/files.js": {
       "data": "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",
       "headers": [
        [
         "content-type",
         "application/javascript"
        ]
       ],
       "ok": true,
       "status": 200,
       "status_text": ""
      }
     }
    },
    "id": "PJK3NyTQzej3",
    "outputId": "47fe9c20-1eb1-4c9c-f6e5-b93c67e1ad9b"
   },
   "outputs": [
    {
     "data": {
      "text/html": [
       "\n",
       "     <input type=\"file\" id=\"files-f369cb9a-2ec7-47c7-9bf3-8aba48a6596c\" name=\"files[]\" multiple disabled\n",
       "        style=\"border:none\" />\n",
       "     <output id=\"result-f369cb9a-2ec7-47c7-9bf3-8aba48a6596c\">\n",
       "      Upload widget is only available when the cell has been executed in the\n",
       "      current browser session. Please rerun this cell to enable.\n",
       "      </output>\n",
       "      <script src=\"/nbextensions/google.colab/files.js\"></script> "
      ],
      "text/plain": [
       "<IPython.core.display.HTML object>"
      ]
     },
     "metadata": {},
     "output_type": "display_data"
    },
    {
     "name": "stdout",
     "output_type": "stream",
     "text": [
      "Saving bookPNL.csv to bookPNL.csv\n"
     ]
    },
    {
     "data": {
      "application/vnd.google.colaboratory.intrinsic+json": {
       "type": "string"
      },
      "text/plain": [
       "'bookPNL.csv'"
      ]
     },
     "execution_count": 1,
     "metadata": {},
     "output_type": "execute_result"
    }
   ],
   "source": [
    "from google.colab import files \n",
    "uploaded = files.upload()\n",
    "filename = next(iter(uploaded))\n",
    "filename\n"
   ]
  },
  {
   "cell_type": "markdown",
   "metadata": {
    "id": "U5prwZfY0DaW"
   },
   "source": [
    "**Step 3: Read the file**"
   ]
  },
  {
   "cell_type": "code",
   "execution_count": null,
   "metadata": {
    "id": "JvrU8iLm0GDU"
   },
   "outputs": [],
   "source": [
    "import pandas as pd\n",
    "def load_housing_data(filename=filename):\n",
    "   return pd.read_csv(filename)"
   ]
  },
  {
   "cell_type": "code",
   "execution_count": null,
   "metadata": {
    "colab": {
     "base_uri": "https://localhost:8080/",
     "height": 425
    },
    "id": "ynjkFdyx0KI8",
    "outputId": "9a0584ca-201c-4967-f400-56710c14b8f2"
   },
   "outputs": [
    {
     "data": {
      "text/html": [
       "<div>\n",
       "<style scoped>\n",
       "    .dataframe tbody tr th:only-of-type {\n",
       "        vertical-align: middle;\n",
       "    }\n",
       "\n",
       "    .dataframe tbody tr th {\n",
       "        vertical-align: top;\n",
       "    }\n",
       "\n",
       "    .dataframe thead th {\n",
       "        text-align: right;\n",
       "    }\n",
       "</style>\n",
       "<table border=\"1\" class=\"dataframe\">\n",
       "  <thead>\n",
       "    <tr style=\"text-align: right;\">\n",
       "      <th></th>\n",
       "      <th>code</th>\n",
       "      <th>Comments</th>\n",
       "    </tr>\n",
       "  </thead>\n",
       "  <tbody>\n",
       "    <tr>\n",
       "      <th>0</th>\n",
       "      <td>1</td>\n",
       "      <td>First copy started loosing pages from the firs...</td>\n",
       "    </tr>\n",
       "    <tr>\n",
       "      <th>1</th>\n",
       "      <td>2</td>\n",
       "      <td>B/W edition...the feel of the pages of an auth...</td>\n",
       "    </tr>\n",
       "    <tr>\n",
       "      <th>2</th>\n",
       "      <td>3</td>\n",
       "      <td>Love the book but not sure why it’s in black a...</td>\n",
       "    </tr>\n",
       "    <tr>\n",
       "      <th>3</th>\n",
       "      <td>4</td>\n",
       "      <td>It covers a lot of subjects but very superfici...</td>\n",
       "    </tr>\n",
       "    <tr>\n",
       "      <th>4</th>\n",
       "      <td>5</td>\n",
       "      <td>.. the word \"practical\" in the title might mak...</td>\n",
       "    </tr>\n",
       "    <tr>\n",
       "      <th>5</th>\n",
       "      <td>6</td>\n",
       "      <td>This book is an introduction on how to apply N...</td>\n",
       "    </tr>\n",
       "    <tr>\n",
       "      <th>6</th>\n",
       "      <td>7</td>\n",
       "      <td>As a new starter in NLP, I found this book ver...</td>\n",
       "    </tr>\n",
       "    <tr>\n",
       "      <th>7</th>\n",
       "      <td>8</td>\n",
       "      <td>I've only finished the first chapter, but the ...</td>\n",
       "    </tr>\n",
       "    <tr>\n",
       "      <th>8</th>\n",
       "      <td>9</td>\n",
       "      <td>Lots of information and fun to read.</td>\n",
       "    </tr>\n",
       "    <tr>\n",
       "      <th>9</th>\n",
       "      <td>10</td>\n",
       "      <td>The authors intent this book to be for anyone ...</td>\n",
       "    </tr>\n",
       "    <tr>\n",
       "      <th>10</th>\n",
       "      <td>11</td>\n",
       "      <td>As others have mentioned, the Kindle version i...</td>\n",
       "    </tr>\n",
       "    <tr>\n",
       "      <th>11</th>\n",
       "      <td>12</td>\n",
       "      <td>Ordered as part of my Business Analytics cours...</td>\n",
       "    </tr>\n",
       "  </tbody>\n",
       "</table>\n",
       "</div>"
      ],
      "text/plain": [
       "    code                                           Comments\n",
       "0      1  First copy started loosing pages from the firs...\n",
       "1      2  B/W edition...the feel of the pages of an auth...\n",
       "2      3  Love the book but not sure why it’s in black a...\n",
       "3      4  It covers a lot of subjects but very superfici...\n",
       "4      5  .. the word \"practical\" in the title might mak...\n",
       "5      6  This book is an introduction on how to apply N...\n",
       "6      7  As a new starter in NLP, I found this book ver...\n",
       "7      8  I've only finished the first chapter, but the ...\n",
       "8      9               Lots of information and fun to read.\n",
       "9     10  The authors intent this book to be for anyone ...\n",
       "10    11  As others have mentioned, the Kindle version i...\n",
       "11    12  Ordered as part of my Business Analytics cours..."
      ]
     },
     "execution_count": 3,
     "metadata": {},
     "output_type": "execute_result"
    }
   ],
   "source": [
    "DataF=load_housing_data(filename)\n",
    "DataF\n",
    "#DataF['Comments']"
   ]
  },
  {
   "cell_type": "markdown",
   "metadata": {
    "id": "twnFRlZE1jZs"
   },
   "source": [
    "**Step 4: calculate Polarity and create a column with its value**"
   ]
  },
  {
   "cell_type": "code",
   "execution_count": null,
   "metadata": {
    "colab": {
     "base_uri": "https://localhost:8080/",
     "height": 425
    },
    "id": "ImtlOxhQ1nvM",
    "outputId": "422a95e1-ef89-42d9-c9bc-2db4e88805fb"
   },
   "outputs": [
    {
     "data": {
      "text/html": [
       "<div>\n",
       "<style scoped>\n",
       "    .dataframe tbody tr th:only-of-type {\n",
       "        vertical-align: middle;\n",
       "    }\n",
       "\n",
       "    .dataframe tbody tr th {\n",
       "        vertical-align: top;\n",
       "    }\n",
       "\n",
       "    .dataframe thead th {\n",
       "        text-align: right;\n",
       "    }\n",
       "</style>\n",
       "<table border=\"1\" class=\"dataframe\">\n",
       "  <thead>\n",
       "    <tr style=\"text-align: right;\">\n",
       "      <th></th>\n",
       "      <th>code</th>\n",
       "      <th>Comments</th>\n",
       "      <th>Polarity</th>\n",
       "    </tr>\n",
       "  </thead>\n",
       "  <tbody>\n",
       "    <tr>\n",
       "      <th>0</th>\n",
       "      <td>1</td>\n",
       "      <td>First copy started loosing pages from the firs...</td>\n",
       "      <td>0.255556</td>\n",
       "    </tr>\n",
       "    <tr>\n",
       "      <th>1</th>\n",
       "      <td>2</td>\n",
       "      <td>B/W edition...the feel of the pages of an auth...</td>\n",
       "      <td>0.150000</td>\n",
       "    </tr>\n",
       "    <tr>\n",
       "      <th>2</th>\n",
       "      <td>3</td>\n",
       "      <td>Love the book but not sure why it’s in black a...</td>\n",
       "      <td>0.020833</td>\n",
       "    </tr>\n",
       "    <tr>\n",
       "      <th>3</th>\n",
       "      <td>4</td>\n",
       "      <td>It covers a lot of subjects but very superfici...</td>\n",
       "      <td>0.055556</td>\n",
       "    </tr>\n",
       "    <tr>\n",
       "      <th>4</th>\n",
       "      <td>5</td>\n",
       "      <td>.. the word \"practical\" in the title might mak...</td>\n",
       "      <td>0.480000</td>\n",
       "    </tr>\n",
       "    <tr>\n",
       "      <th>5</th>\n",
       "      <td>6</td>\n",
       "      <td>This book is an introduction on how to apply N...</td>\n",
       "      <td>0.054750</td>\n",
       "    </tr>\n",
       "    <tr>\n",
       "      <th>6</th>\n",
       "      <td>7</td>\n",
       "      <td>As a new starter in NLP, I found this book ver...</td>\n",
       "      <td>0.245671</td>\n",
       "    </tr>\n",
       "    <tr>\n",
       "      <th>7</th>\n",
       "      <td>8</td>\n",
       "      <td>I've only finished the first chapter, but the ...</td>\n",
       "      <td>-0.125000</td>\n",
       "    </tr>\n",
       "    <tr>\n",
       "      <th>8</th>\n",
       "      <td>9</td>\n",
       "      <td>Lots of information and fun to read.</td>\n",
       "      <td>0.300000</td>\n",
       "    </tr>\n",
       "    <tr>\n",
       "      <th>9</th>\n",
       "      <td>10</td>\n",
       "      <td>The authors intent this book to be for anyone ...</td>\n",
       "      <td>0.250000</td>\n",
       "    </tr>\n",
       "    <tr>\n",
       "      <th>10</th>\n",
       "      <td>11</td>\n",
       "      <td>As others have mentioned, the Kindle version i...</td>\n",
       "      <td>0.300000</td>\n",
       "    </tr>\n",
       "    <tr>\n",
       "      <th>11</th>\n",
       "      <td>12</td>\n",
       "      <td>Ordered as part of my Business Analytics cours...</td>\n",
       "      <td>0.000000</td>\n",
       "    </tr>\n",
       "  </tbody>\n",
       "</table>\n",
       "</div>"
      ],
      "text/plain": [
       "    code                                           Comments  Polarity\n",
       "0      1  First copy started loosing pages from the firs...  0.255556\n",
       "1      2  B/W edition...the feel of the pages of an auth...  0.150000\n",
       "2      3  Love the book but not sure why it’s in black a...  0.020833\n",
       "3      4  It covers a lot of subjects but very superfici...  0.055556\n",
       "4      5  .. the word \"practical\" in the title might mak...  0.480000\n",
       "5      6  This book is an introduction on how to apply N...  0.054750\n",
       "6      7  As a new starter in NLP, I found this book ver...  0.245671\n",
       "7      8  I've only finished the first chapter, but the ... -0.125000\n",
       "8      9               Lots of information and fun to read.  0.300000\n",
       "9     10  The authors intent this book to be for anyone ...  0.250000\n",
       "10    11  As others have mentioned, the Kindle version i...  0.300000\n",
       "11    12  Ordered as part of my Business Analytics cours...  0.000000"
      ]
     },
     "execution_count": 4,
     "metadata": {},
     "output_type": "execute_result"
    }
   ],
   "source": [
    "from textblob import TextBlob\n",
    "def getPolar(text):\n",
    "  return TextBlob(text).sentiment.polarity\n",
    "\n",
    "DataF['Polarity']=DataF['Comments'].apply(getPolar)\n",
    "\n",
    "DataF\n"
   ]
  },
  {
   "cell_type": "markdown",
   "metadata": {
    "id": "O5dj3y8_4ZDd"
   },
   "source": [
    "**Step 5: Get positive, negative , neutral analysis**"
   ]
  },
  {
   "cell_type": "code",
   "execution_count": null,
   "metadata": {
    "colab": {
     "base_uri": "https://localhost:8080/",
     "height": 425
    },
    "id": "KcHlw1ic4km7",
    "outputId": "e54246d4-ad90-4f05-f2ac-5ec337cdee17"
   },
   "outputs": [
    {
     "data": {
      "text/html": [
       "<div>\n",
       "<style scoped>\n",
       "    .dataframe tbody tr th:only-of-type {\n",
       "        vertical-align: middle;\n",
       "    }\n",
       "\n",
       "    .dataframe tbody tr th {\n",
       "        vertical-align: top;\n",
       "    }\n",
       "\n",
       "    .dataframe thead th {\n",
       "        text-align: right;\n",
       "    }\n",
       "</style>\n",
       "<table border=\"1\" class=\"dataframe\">\n",
       "  <thead>\n",
       "    <tr style=\"text-align: right;\">\n",
       "      <th></th>\n",
       "      <th>code</th>\n",
       "      <th>Comments</th>\n",
       "      <th>Polarity</th>\n",
       "      <th>PolarAnalysis</th>\n",
       "    </tr>\n",
       "  </thead>\n",
       "  <tbody>\n",
       "    <tr>\n",
       "      <th>0</th>\n",
       "      <td>1</td>\n",
       "      <td>First copy started loosing pages from the firs...</td>\n",
       "      <td>0.255556</td>\n",
       "      <td>Positive</td>\n",
       "    </tr>\n",
       "    <tr>\n",
       "      <th>1</th>\n",
       "      <td>2</td>\n",
       "      <td>B/W edition...the feel of the pages of an auth...</td>\n",
       "      <td>0.150000</td>\n",
       "      <td>Positive</td>\n",
       "    </tr>\n",
       "    <tr>\n",
       "      <th>2</th>\n",
       "      <td>3</td>\n",
       "      <td>Love the book but not sure why it’s in black a...</td>\n",
       "      <td>0.020833</td>\n",
       "      <td>Positive</td>\n",
       "    </tr>\n",
       "    <tr>\n",
       "      <th>3</th>\n",
       "      <td>4</td>\n",
       "      <td>It covers a lot of subjects but very superfici...</td>\n",
       "      <td>0.055556</td>\n",
       "      <td>Positive</td>\n",
       "    </tr>\n",
       "    <tr>\n",
       "      <th>4</th>\n",
       "      <td>5</td>\n",
       "      <td>.. the word \"practical\" in the title might mak...</td>\n",
       "      <td>0.480000</td>\n",
       "      <td>Positive</td>\n",
       "    </tr>\n",
       "    <tr>\n",
       "      <th>5</th>\n",
       "      <td>6</td>\n",
       "      <td>This book is an introduction on how to apply N...</td>\n",
       "      <td>0.054750</td>\n",
       "      <td>Positive</td>\n",
       "    </tr>\n",
       "    <tr>\n",
       "      <th>6</th>\n",
       "      <td>7</td>\n",
       "      <td>As a new starter in NLP, I found this book ver...</td>\n",
       "      <td>0.245671</td>\n",
       "      <td>Positive</td>\n",
       "    </tr>\n",
       "    <tr>\n",
       "      <th>7</th>\n",
       "      <td>8</td>\n",
       "      <td>I've only finished the first chapter, but the ...</td>\n",
       "      <td>-0.125000</td>\n",
       "      <td>Negative</td>\n",
       "    </tr>\n",
       "    <tr>\n",
       "      <th>8</th>\n",
       "      <td>9</td>\n",
       "      <td>Lots of information and fun to read.</td>\n",
       "      <td>0.300000</td>\n",
       "      <td>Positive</td>\n",
       "    </tr>\n",
       "    <tr>\n",
       "      <th>9</th>\n",
       "      <td>10</td>\n",
       "      <td>The authors intent this book to be for anyone ...</td>\n",
       "      <td>0.250000</td>\n",
       "      <td>Positive</td>\n",
       "    </tr>\n",
       "    <tr>\n",
       "      <th>10</th>\n",
       "      <td>11</td>\n",
       "      <td>As others have mentioned, the Kindle version i...</td>\n",
       "      <td>0.300000</td>\n",
       "      <td>Positive</td>\n",
       "    </tr>\n",
       "    <tr>\n",
       "      <th>11</th>\n",
       "      <td>12</td>\n",
       "      <td>Ordered as part of my Business Analytics cours...</td>\n",
       "      <td>0.000000</td>\n",
       "      <td>Neutral</td>\n",
       "    </tr>\n",
       "  </tbody>\n",
       "</table>\n",
       "</div>"
      ],
      "text/plain": [
       "    code  ... PolarAnalysis\n",
       "0      1  ...      Positive\n",
       "1      2  ...      Positive\n",
       "2      3  ...      Positive\n",
       "3      4  ...      Positive\n",
       "4      5  ...      Positive\n",
       "5      6  ...      Positive\n",
       "6      7  ...      Positive\n",
       "7      8  ...      Negative\n",
       "8      9  ...      Positive\n",
       "9     10  ...      Positive\n",
       "10    11  ...      Positive\n",
       "11    12  ...       Neutral\n",
       "\n",
       "[12 rows x 4 columns]"
      ]
     },
     "execution_count": 5,
     "metadata": {},
     "output_type": "execute_result"
    }
   ],
   "source": [
    "def getPolarAnalysis(score):\n",
    "  if score <0:\n",
    "    return 'Negative'\n",
    "  elif score==0:\n",
    "    return 'Neutral'\n",
    "  else:\n",
    "    return 'Positive'\n",
    "DataF['PolarAnalysis']=DataF['Polarity'].apply(getPolarAnalysis)\n",
    "DataF"
   ]
  },
  {
   "cell_type": "markdown",
   "metadata": {
    "id": "JKBxCy3-5CzI"
   },
   "source": [
    "**Step6: Display the Polarity analysis**"
   ]
  },
  {
   "cell_type": "code",
   "execution_count": null,
   "metadata": {
    "colab": {
     "base_uri": "https://localhost:8080/",
     "height": 724
    },
    "id": "xI8SxGOE5OZa",
    "outputId": "3a1ec146-bbe8-40bc-d50f-cc1d0b09a0c6"
   },
   "outputs": [
    {
     "data": {
      "image/png": "[encoded data removed]",
      "text/plain": [
       "<Figure size 864x720 with 1 Axes>"
      ]
     },
     "metadata": {},
     "output_type": "display_data"
    }
   ],
   "source": [
    "import matplotlib.pyplot as plt\n",
    "plt.style.use('fivethirtyeight')\n",
    "plt.figure(figsize=(12,10))\n",
    "plt.title('Sentiment Analysis of Polarity')\n",
    "plt.xlabel('Polarity')\n",
    "plt.ylabel('Counts')\n",
    "DataF['PolarAnalysis'].value_counts().plot(kind='bar')\n",
    "plt.show\n",
    "plt.savefig('polarity.png')"
   ]
  },
  {
   "cell_type": "markdown",
   "metadata": {
    "id": "JcUDSr62F4M9"
   },
   "source": [
    "## **Subjectivity**"
   ]
  },
  {
   "cell_type": "markdown",
   "metadata": {
    "id": "7CMrjJ2yGUDO"
   },
   "source": [
    "**Step 7: calculate Subjectivity and create a column with its value**"
   ]
  },
  {
   "cell_type": "code",
   "execution_count": null,
   "metadata": {
    "colab": {
     "base_uri": "https://localhost:8080/",
     "height": 425
    },
    "id": "VOE5Xc8VGn9e",
    "outputId": "7ba8d583-6cd5-48bb-b154-b8e67368860f"
   },
   "outputs": [
    {
     "data": {
      "text/html": [
       "<div>\n",
       "<style scoped>\n",
       "    .dataframe tbody tr th:only-of-type {\n",
       "        vertical-align: middle;\n",
       "    }\n",
       "\n",
       "    .dataframe tbody tr th {\n",
       "        vertical-align: top;\n",
       "    }\n",
       "\n",
       "    .dataframe thead th {\n",
       "        text-align: right;\n",
       "    }\n",
       "</style>\n",
       "<table border=\"1\" class=\"dataframe\">\n",
       "  <thead>\n",
       "    <tr style=\"text-align: right;\">\n",
       "      <th></th>\n",
       "      <th>code</th>\n",
       "      <th>Comments</th>\n",
       "      <th>Polarity</th>\n",
       "      <th>PolarAnalysis</th>\n",
       "      <th>Subjectivity</th>\n",
       "    </tr>\n",
       "  </thead>\n",
       "  <tbody>\n",
       "    <tr>\n",
       "      <th>0</th>\n",
       "      <td>1</td>\n",
       "      <td>First copy started loosing pages from the firs...</td>\n",
       "      <td>0.255556</td>\n",
       "      <td>Positive</td>\n",
       "      <td>0.470833</td>\n",
       "    </tr>\n",
       "    <tr>\n",
       "      <th>1</th>\n",
       "      <td>2</td>\n",
       "      <td>B/W edition...the feel of the pages of an auth...</td>\n",
       "      <td>0.150000</td>\n",
       "      <td>Positive</td>\n",
       "      <td>0.400000</td>\n",
       "    </tr>\n",
       "    <tr>\n",
       "      <th>2</th>\n",
       "      <td>3</td>\n",
       "      <td>Love the book but not sure why it’s in black a...</td>\n",
       "      <td>0.020833</td>\n",
       "      <td>Positive</td>\n",
       "      <td>0.480556</td>\n",
       "    </tr>\n",
       "    <tr>\n",
       "      <th>3</th>\n",
       "      <td>4</td>\n",
       "      <td>It covers a lot of subjects but very superfici...</td>\n",
       "      <td>0.055556</td>\n",
       "      <td>Positive</td>\n",
       "      <td>0.611111</td>\n",
       "    </tr>\n",
       "    <tr>\n",
       "      <th>4</th>\n",
       "      <td>5</td>\n",
       "      <td>.. the word \"practical\" in the title might mak...</td>\n",
       "      <td>0.480000</td>\n",
       "      <td>Positive</td>\n",
       "      <td>0.645000</td>\n",
       "    </tr>\n",
       "    <tr>\n",
       "      <th>5</th>\n",
       "      <td>6</td>\n",
       "      <td>This book is an introduction on how to apply N...</td>\n",
       "      <td>0.054750</td>\n",
       "      <td>Positive</td>\n",
       "      <td>0.341500</td>\n",
       "    </tr>\n",
       "    <tr>\n",
       "      <th>6</th>\n",
       "      <td>7</td>\n",
       "      <td>As a new starter in NLP, I found this book ver...</td>\n",
       "      <td>0.245671</td>\n",
       "      <td>Positive</td>\n",
       "      <td>0.610967</td>\n",
       "    </tr>\n",
       "    <tr>\n",
       "      <th>7</th>\n",
       "      <td>8</td>\n",
       "      <td>I've only finished the first chapter, but the ...</td>\n",
       "      <td>-0.125000</td>\n",
       "      <td>Negative</td>\n",
       "      <td>0.595833</td>\n",
       "    </tr>\n",
       "    <tr>\n",
       "      <th>8</th>\n",
       "      <td>9</td>\n",
       "      <td>Lots of information and fun to read.</td>\n",
       "      <td>0.300000</td>\n",
       "      <td>Positive</td>\n",
       "      <td>0.200000</td>\n",
       "    </tr>\n",
       "    <tr>\n",
       "      <th>9</th>\n",
       "      <td>10</td>\n",
       "      <td>The authors intent this book to be for anyone ...</td>\n",
       "      <td>0.250000</td>\n",
       "      <td>Positive</td>\n",
       "      <td>0.500000</td>\n",
       "    </tr>\n",
       "    <tr>\n",
       "      <th>10</th>\n",
       "      <td>11</td>\n",
       "      <td>As others have mentioned, the Kindle version i...</td>\n",
       "      <td>0.300000</td>\n",
       "      <td>Positive</td>\n",
       "      <td>0.100000</td>\n",
       "    </tr>\n",
       "    <tr>\n",
       "      <th>11</th>\n",
       "      <td>12</td>\n",
       "      <td>Ordered as part of my Business Analytics cours...</td>\n",
       "      <td>0.000000</td>\n",
       "      <td>Neutral</td>\n",
       "      <td>0.000000</td>\n",
       "    </tr>\n",
       "  </tbody>\n",
       "</table>\n",
       "</div>"
      ],
      "text/plain": [
       "    code  ... Subjectivity\n",
       "0      1  ...     0.470833\n",
       "1      2  ...     0.400000\n",
       "2      3  ...     0.480556\n",
       "3      4  ...     0.611111\n",
       "4      5  ...     0.645000\n",
       "5      6  ...     0.341500\n",
       "6      7  ...     0.610967\n",
       "7      8  ...     0.595833\n",
       "8      9  ...     0.200000\n",
       "9     10  ...     0.500000\n",
       "10    11  ...     0.100000\n",
       "11    12  ...     0.000000\n",
       "\n",
       "[12 rows x 5 columns]"
      ]
     },
     "execution_count": 7,
     "metadata": {},
     "output_type": "execute_result"
    }
   ],
   "source": [
    "def getSubj(text):\n",
    "  return TextBlob(text).sentiment.subjectivity\n",
    "DataF['Subjectivity']=DataF['Comments'].apply(getSubj)\n",
    "DataF"
   ]
  },
  {
   "cell_type": "markdown",
   "metadata": {
    "id": "P_Qavz8gN0av"
   },
   "source": [
    "**Step 8: Display Sentiment Analysis**\n"
   ]
  },
  {
   "cell_type": "code",
   "execution_count": null,
   "metadata": {
    "colab": {
     "base_uri": "https://localhost:8080/",
     "height": 675
    },
    "id": "z8JIBTdrOL_U",
    "outputId": "1b983f87-46d2-4377-acbd-22bac9ca3181"
   },
   "outputs": [
    {
     "data": {
      "image/png": "[encoded data removed]",
      "text/plain": [
       "<Figure size 864x720 with 1 Axes>"
      ]
     },
     "metadata": {},
     "output_type": "display_data"
    }
   ],
   "source": [
    "plt.figure(figsize=(12,10))\n",
    "for i in range(0,DataF.shape[0]):\n",
    "  if (DataF['Polarity'][i] <0):\n",
    "    plt.scatter(DataF['Polarity'][i],DataF['Subjectivity'][i], color='Red')\n",
    "  else:\n",
    "    plt.scatter(DataF['Polarity'][i],DataF['Subjectivity'][i], color='Green')\n",
    "plt.title('Sentiment Analysis')\n",
    "plt.xlabel('Polarity')\n",
    "plt.ylabel('Subjectivity')\n",
    "plt.savefig('SA1.png')\n",
    "plt.show()\n"
   ]
  },
  {
   "cell_type": "markdown",
   "metadata": {
    "id": "0swDrX-petF6"
   },
   "source": [
    "## **Topic Modeling**"
   ]
  },
  {
   "cell_type": "markdown",
   "metadata": {
    "id": "Duvgw03eeymZ"
   },
   "source": [
    "**Step 9: Data cleaning**\n"
   ]
  },
  {
   "cell_type": "code",
   "execution_count": null,
   "metadata": {
    "colab": {
     "base_uri": "https://localhost:8080/"
    },
    "id": "5fVY-6qHg8DS",
    "outputId": "da505c6d-e048-423d-b67f-9f3957450055"
   },
   "outputs": [
    {
     "name": "stdout",
     "output_type": "stream",
     "text": [
      "[nltk_data] Downloading package stopwords to /root/nltk_data...\n",
      "[nltk_data]   Unzipping corpora/stopwords.zip.\n",
      "[nltk_data] Downloading package wordnet to /root/nltk_data...\n",
      "[nltk_data]   Unzipping corpora/wordnet.zip.\n"
     ]
    }
   ],
   "source": [
    "import nltk\n",
    "import string\n",
    "from nltk.corpus import stopwords\n",
    "from nltk.stem.wordnet import WordNetLemmatizer\n",
    "nltk.download('stopwords')\n",
    "nltk.download('wordnet')\n",
    "\n",
    "stop = set(stopwords.words('english'))\n",
    "exclude = set(string.punctuation)\n",
    "lemma = WordNetLemmatizer()\n",
    "\n",
    "def clean(text):\n",
    "    stop_free = ' '.join([word for word in text.lower().split() if word not in stop])\n",
    "    punc_free = ''.join(ch for ch in stop_free if ch not in exclude)\n",
    "    normalized = ' '.join([lemma.lemmatize(word) for word in punc_free.split()])\n",
    "    return normalized.split()\n"
   ]
  },
  {
   "cell_type": "code",
   "execution_count": null,
   "metadata": {
    "colab": {
     "base_uri": "https://localhost:8080/"
    },
    "id": "VeKVl5BQiCAg",
    "outputId": "b5e26ecd-9de0-4164-f104-62d12e0e74da"
   },
   "outputs": [
    {
     "data": {
      "text/plain": [
       "0     [first, copy, started, loosing, page, first, r...\n",
       "1     [bw, editionthe, feel, page, authentic, rielly...\n",
       "2     [love, book, sure, it’s, black, white, image, ...\n",
       "3     [cover, lot, subject, superficially, us, almos...\n",
       "4     [word, practical, title, might, make, think, w...\n",
       "5     [book, introduction, apply, nlp, industrial, s...\n",
       "6     [new, starter, nlp, found, book, helpful, auth...\n",
       "7     [ive, finished, first, chapter, quality, writi...\n",
       "8                         [lot, information, fun, read]\n",
       "9     [author, intent, book, anyone, interested, wor...\n",
       "10    [others, mentioned, kindle, version, horrrrrri...\n",
       "11    [ordered, part, business, analytics, course, m...\n",
       "Name: Comments_clean, dtype: object"
      ]
     },
     "execution_count": 10,
     "metadata": {},
     "output_type": "execute_result"
    }
   ],
   "source": [
    "DataF['Comments_clean']=DataF['Comments'].apply(clean)\n",
    "DataF['Comments_clean']"
   ]
  },
  {
   "cell_type": "markdown",
   "metadata": {
    "id": "pRZnl8swjRVZ"
   },
   "source": [
    "**Step 10: Create dictionary and term matrix**"
   ]
  },
  {
   "cell_type": "code",
   "execution_count": null,
   "metadata": {
    "id": "LfFI1Qg0jSkt"
   },
   "outputs": [],
   "source": [
    "import gensim\n",
    "from gensim.models.ldamulticore import LdaMulticore\n",
    "from gensim import corpora, models\n",
    "dictionary = corpora.Dictionary(DataF['Comments_clean'])\n",
    "term_matrix = [dictionary.doc2bow(doc) for doc in DataF['Comments_clean'] ]"
   ]
  },
  {
   "cell_type": "code",
   "execution_count": null,
   "metadata": {
    "colab": {
     "base_uri": "https://localhost:8080/"
    },
    "id": "EJ8bLatjjvMF",
    "outputId": "3f5b3ea5-9799-4ee3-9d24-95cd5e140e0d"
   },
   "outputs": [
    {
     "name": "stdout",
     "output_type": "stream",
     "text": [
      "231\n"
     ]
    }
   ],
   "source": [
    "print(dictionary.num_nnz)"
   ]
  },
  {
   "cell_type": "code",
   "execution_count": null,
   "metadata": {
    "colab": {
     "base_uri": "https://localhost:8080/"
    },
    "id": "m6qSAl3kjvWz",
    "outputId": "a18f358e-6824-450b-de3f-e11d88a3a4b1"
   },
   "outputs": [
    {
     "name": "stdout",
     "output_type": "stream",
     "text": [
      "12\n"
     ]
    }
   ],
   "source": [
    "print(len(term_matrix))"
   ]
  },
  {
   "cell_type": "code",
   "execution_count": null,
   "metadata": {
    "colab": {
     "base_uri": "https://localhost:8080/"
    },
    "id": "DV4XIGkPkIdn",
    "outputId": "d9d3bbb8-dc73-444b-f444-7db3f5e7c61b"
   },
   "outputs": [
    {
     "data": {
      "text/plain": [
       "[[(0, 1),\n",
       "  (1, 1),\n",
       "  (2, 2),\n",
       "  (3, 1),\n",
       "  (4, 1),\n",
       "  (5, 1),\n",
       "  (6, 1),\n",
       "  (7, 1),\n",
       "  (8, 1),\n",
       "  (9, 2),\n",
       "  (10, 1),\n",
       "  (11, 1),\n",
       "  (12, 1),\n",
       "  (13, 1),\n",
       "  (14, 2),\n",
       "  (15, 1),\n",
       "  (16, 2),\n",
       "  (17, 1),\n",
       "  (18, 1),\n",
       "  (19, 1),\n",
       "  (20, 1),\n",
       "  (21, 1),\n",
       "  (22, 1),\n",
       "  (23, 1),\n",
       "  (24, 1)],\n",
       " [(16, 1),\n",
       "  (25, 1),\n",
       "  (26, 1),\n",
       "  (27, 1),\n",
       "  (28, 1),\n",
       "  (29, 1),\n",
       "  (30, 1),\n",
       "  (31, 1),\n",
       "  (32, 1)],\n",
       " [(2, 1), (33, 1), (34, 1), (35, 1), (36, 1), (37, 1), (38, 1), (39, 1)],\n",
       " [(2, 1),\n",
       "  (40, 1),\n",
       "  (41, 1),\n",
       "  (42, 1),\n",
       "  (43, 1),\n",
       "  (44, 1),\n",
       "  (45, 1),\n",
       "  (46, 1),\n",
       "  (47, 1),\n",
       "  (48, 1),\n",
       "  (49, 1),\n",
       "  (50, 1),\n",
       "  (51, 1),\n",
       "  (52, 1),\n",
       "  (53, 1),\n",
       "  (54, 1),\n",
       "  (55, 1),\n",
       "  (56, 2),\n",
       "  (57, 1),\n",
       "  (58, 1),\n",
       "  (59, 1),\n",
       "  (60, 1)],\n",
       " [(2, 1),\n",
       "  (17, 1),\n",
       "  (48, 1),\n",
       "  (54, 1),\n",
       "  (61, 1),\n",
       "  (62, 1),\n",
       "  (63, 1),\n",
       "  (64, 1),\n",
       "  (65, 1),\n",
       "  (66, 1),\n",
       "  (67, 1),\n",
       "  (68, 1),\n",
       "  (69, 1),\n",
       "  (70, 1),\n",
       "  (71, 1),\n",
       "  (72, 1),\n",
       "  (73, 1),\n",
       "  (74, 1),\n",
       "  (75, 1),\n",
       "  (76, 1),\n",
       "  (77, 1),\n",
       "  (78, 1),\n",
       "  (79, 1),\n",
       "  (80, 1),\n",
       "  (81, 1),\n",
       "  (82, 1),\n",
       "  (83, 1),\n",
       "  (84, 1),\n",
       "  (85, 1),\n",
       "  (86, 2)],\n",
       " [(2, 5),\n",
       "  (17, 2),\n",
       "  (41, 1),\n",
       "  (62, 1),\n",
       "  (63, 1),\n",
       "  (66, 1),\n",
       "  (73, 1),\n",
       "  (74, 1),\n",
       "  (79, 2),\n",
       "  (87, 1),\n",
       "  (88, 1),\n",
       "  (89, 1),\n",
       "  (90, 1),\n",
       "  (91, 1),\n",
       "  (92, 1),\n",
       "  (93, 1),\n",
       "  (94, 1),\n",
       "  (95, 1),\n",
       "  (96, 1),\n",
       "  (97, 1),\n",
       "  (98, 1),\n",
       "  (99, 1),\n",
       "  (100, 1),\n",
       "  (101, 1),\n",
       "  (102, 1),\n",
       "  (103, 1),\n",
       "  (104, 1),\n",
       "  (105, 1),\n",
       "  (106, 1),\n",
       "  (107, 1),\n",
       "  (108, 1),\n",
       "  (109, 1),\n",
       "  (110, 1),\n",
       "  (111, 1),\n",
       "  (112, 1),\n",
       "  (113, 1),\n",
       "  (114, 1),\n",
       "  (115, 1),\n",
       "  (116, 1),\n",
       "  (117, 1),\n",
       "  (118, 1),\n",
       "  (119, 1),\n",
       "  (120, 1),\n",
       "  (121, 1),\n",
       "  (122, 1),\n",
       "  (123, 1),\n",
       "  (124, 1),\n",
       "  (125, 1),\n",
       "  (126, 1),\n",
       "  (127, 1),\n",
       "  (128, 1),\n",
       "  (129, 1),\n",
       "  (130, 1),\n",
       "  (131, 1),\n",
       "  (132, 1),\n",
       "  (133, 1),\n",
       "  (134, 1),\n",
       "  (135, 2),\n",
       "  (136, 1)],\n",
       " [(2, 4),\n",
       "  (8, 1),\n",
       "  (38, 1),\n",
       "  (45, 1),\n",
       "  (63, 1),\n",
       "  (67, 1),\n",
       "  (75, 1),\n",
       "  (79, 5),\n",
       "  (90, 1),\n",
       "  (123, 1),\n",
       "  (133, 1),\n",
       "  (137, 1),\n",
       "  (138, 1),\n",
       "  (139, 1),\n",
       "  (140, 1),\n",
       "  (141, 1),\n",
       "  (142, 1),\n",
       "  (143, 1),\n",
       "  (144, 1),\n",
       "  (145, 1),\n",
       "  (146, 1),\n",
       "  (147, 2),\n",
       "  (148, 1),\n",
       "  (149, 1),\n",
       "  (150, 1),\n",
       "  (151, 1),\n",
       "  (152, 1),\n",
       "  (153, 1),\n",
       "  (154, 1),\n",
       "  (155, 1),\n",
       "  (156, 1),\n",
       "  (157, 1),\n",
       "  (158, 1),\n",
       "  (159, 1),\n",
       "  (160, 1),\n",
       "  (161, 1),\n",
       "  (162, 1),\n",
       "  (163, 1),\n",
       "  (164, 1),\n",
       "  (165, 1),\n",
       "  (166, 1),\n",
       "  (167, 1),\n",
       "  (168, 1)],\n",
       " [(9, 1),\n",
       "  (169, 1),\n",
       "  (170, 1),\n",
       "  (171, 1),\n",
       "  (172, 1),\n",
       "  (173, 1),\n",
       "  (174, 1),\n",
       "  (175, 1),\n",
       "  (176, 1)],\n",
       " [(49, 1), (80, 1), (177, 1), (178, 1)],\n",
       " [(2, 1), (90, 1), (106, 1), (138, 1), (154, 1), (179, 1), (180, 1)],\n",
       " [(136, 1),\n",
       "  (181, 1),\n",
       "  (182, 1),\n",
       "  (183, 1),\n",
       "  (184, 1),\n",
       "  (185, 1),\n",
       "  (186, 1),\n",
       "  (187, 1),\n",
       "  (188, 1)],\n",
       " [(43, 1), (189, 1), (190, 1), (191, 1), (192, 1), (193, 1)]]"
      ]
     },
     "execution_count": 14,
     "metadata": {},
     "output_type": "execute_result"
    }
   ],
   "source": [
    "term_matrix"
   ]
  },
  {
   "cell_type": "markdown",
   "metadata": {
    "id": "ZSKfWYtSpkaY"
   },
   "source": [
    "**Step 11:Latent Dirichlet allocation (LDA)**"
   ]
  },
  {
   "cell_type": "code",
   "execution_count": null,
   "metadata": {
    "id": "cTyKcXIUpXEZ"
   },
   "outputs": [],
   "source": [
    "lda = gensim.models.ldamodel.LdaModel"
   ]
  },
  {
   "cell_type": "code",
   "execution_count": null,
   "metadata": {
    "colab": {
     "base_uri": "https://localhost:8080/"
    },
    "id": "M-l1LDGPqRzK",
    "outputId": "b1cf15cb-3d54-482d-a978-6a4a877af826"
   },
   "outputs": [
    {
     "name": "stdout",
     "output_type": "stream",
     "text": [
      "CPU times: user 370 ms, sys: 14.3 ms, total: 384 ms\n",
      "Wall time: 368 ms\n"
     ]
    }
   ],
   "source": [
    "num_topics=2\n",
    "%time ldamodel = lda(term_matrix,num_topics=num_topics,id2word=dictionary,passes=50,minimum_probability=0)"
   ]
  },
  {
   "cell_type": "markdown",
   "metadata": {
    "id": "OtYzv1h1uGIC"
   },
   "source": [
    "https://radimrehurek.com/gensim/models/ldamodel.html"
   ]
  },
  {
   "cell_type": "code",
   "execution_count": null,
   "metadata": {
    "colab": {
     "base_uri": "https://localhost:8080/"
    },
    "id": "dm7K4xN9qXRh",
    "outputId": "590f5616-1906-486e-ddef-475674a77869"
   },
   "outputs": [
    {
     "data": {
      "text/plain": [
       "[(0,\n",
       "  '0.036*\"book\" + 0.012*\"reading\" + 0.012*\"work\" + 0.012*\"field\" + 0.012*\"nlp\" + 0.012*\"author\" + 0.007*\"worth\" + 0.007*\"almost\" + 0.007*\"level\" + 0.007*\"get\"'),\n",
       " (1,\n",
       "  '0.035*\"book\" + 0.027*\"nlp\" + 0.011*\"first\" + 0.011*\"page\" + 0.010*\"end\" + 0.010*\"easily\" + 0.010*\"give\" + 0.010*\"like\" + 0.010*\"especially\" + 0.010*\"loosing\"')]"
      ]
     },
     "execution_count": 17,
     "metadata": {},
     "output_type": "execute_result"
    }
   ],
   "source": [
    "ldamodel.print_topics(num_topics=num_topics)"
   ]
  },
  {
   "cell_type": "markdown",
   "metadata": {
    "id": "xuAySe8muaUI"
   },
   "source": [
    "**Step 12: Display Topics Map Using LDAvis**"
   ]
  },
  {
   "cell_type": "code",
   "execution_count": null,
   "metadata": {
    "colab": {
     "base_uri": "https://localhost:8080/",
     "height": 1000
    },
    "id": "ZFqax3GyuTp-",
    "outputId": "898f1fe1-9d13-4425-a47c-f17fedd1d17e"
   },
   "outputs": [
    {
     "name": "stdout",
     "output_type": "stream",
     "text": [
      "Requirement already satisfied: pyLDAvis==2.1.2 in /usr/local/lib/python3.7/dist-packages (2.1.2)\n",
      "Requirement already satisfied: jinja2>=2.7.2 in /usr/local/lib/python3.7/dist-packages (from pyLDAvis==2.1.2) (2.11.3)\n",
      "Requirement already satisfied: future in /usr/local/lib/python3.7/dist-packages (from pyLDAvis==2.1.2) (0.16.0)\n",
      "Requirement already satisfied: joblib>=0.8.4 in /usr/local/lib/python3.7/dist-packages (from pyLDAvis==2.1.2) (1.1.0)\n",
      "Requirement already satisfied: pytest in /usr/local/lib/python3.7/dist-packages (from pyLDAvis==2.1.2) (3.6.4)\n",
      "Requirement already satisfied: scipy>=0.18.0 in /usr/local/lib/python3.7/dist-packages (from pyLDAvis==2.1.2) (1.4.1)\n",
      "Requirement already satisfied: funcy in /usr/local/lib/python3.7/dist-packages (from pyLDAvis==2.1.2) (1.16)\n",
      "Requirement already satisfied: numpy>=1.9.2 in /usr/local/lib/python3.7/dist-packages (from pyLDAvis==2.1.2) (1.19.5)\n",
      "Requirement already satisfied: numexpr in /usr/local/lib/python3.7/dist-packages (from pyLDAvis==2.1.2) (2.7.3)\n",
      "Requirement already satisfied: pandas>=0.17.0 in /usr/local/lib/python3.7/dist-packages (from pyLDAvis==2.1.2) (1.1.5)\n",
      "Requirement already satisfied: wheel>=0.23.0 in /usr/local/lib/python3.7/dist-packages (from pyLDAvis==2.1.2) (0.37.0)\n",
      "Requirement already satisfied: MarkupSafe>=0.23 in /usr/local/lib/python3.7/dist-packages (from jinja2>=2.7.2->pyLDAvis==2.1.2) (2.0.1)\n",
      "Requirement already satisfied: pytz>=2017.2 in /usr/local/lib/python3.7/dist-packages (from pandas>=0.17.0->pyLDAvis==2.1.2) (2018.9)\n",
      "Requirement already satisfied: python-dateutil>=2.7.3 in /usr/local/lib/python3.7/dist-packages (from pandas>=0.17.0->pyLDAvis==2.1.2) (2.8.2)\n",
      "Requirement already satisfied: six>=1.5 in /usr/local/lib/python3.7/dist-packages (from python-dateutil>=2.7.3->pandas>=0.17.0->pyLDAvis==2.1.2) (1.15.0)\n",
      "Requirement already satisfied: setuptools in /usr/local/lib/python3.7/dist-packages (from pytest->pyLDAvis==2.1.2) (57.4.0)\n",
      "Requirement already satisfied: attrs>=17.4.0 in /usr/local/lib/python3.7/dist-packages (from pytest->pyLDAvis==2.1.2) (21.2.0)\n",
      "Requirement already satisfied: pluggy<0.8,>=0.5 in /usr/local/lib/python3.7/dist-packages (from pytest->pyLDAvis==2.1.2) (0.7.1)\n",
      "Requirement already satisfied: py>=1.5.0 in /usr/local/lib/python3.7/dist-packages (from pytest->pyLDAvis==2.1.2) (1.11.0)\n",
      "Requirement already satisfied: atomicwrites>=1.0 in /usr/local/lib/python3.7/dist-packages (from pytest->pyLDAvis==2.1.2) (1.4.0)\n",
      "Requirement already satisfied: more-itertools>=4.0.0 in /usr/local/lib/python3.7/dist-packages (from pytest->pyLDAvis==2.1.2) (8.11.0)\n"
     ]
    },
    {
     "data": {
      "text/html": [
       "\n",
       "<link rel=\"stylesheet\" type=\"text/css\" href=\"https://cdn.rawgit.com/bmabey/pyLDAvis/files/ldavis.v1.0.0.css\">\n",
       "\n",
       "\n",
       "<div id=\"ldavis_el601406661704020007271602483\"></div>\n",
       "<script type=\"text/javascript\">\n",
       "\n",
       "var ldavis_el601406661704020007271602483_data = {\"mdsDat\": {\"x\": [-0.0032313748104220623, 0.0032313748104220623], \"y\": [-0.05702722891947106, 0.05702722891947106], \"topics\": [1, 2], \"cluster\": [1, 1], \"Freq\": [42.90945074921446, 57.09054925078555]}, \"tinfo\": {\"Term\": [\"work\", \"field\", \"picture\", \"professionalsresearchers\", \"influence\", \"see\", \"something\", \"4th\", \"money\", \"believe\", \"u\", \"everybody\", \"industrial\", \"july\", \"want\", \"extra\", \"2020\", \"experience\", \"current\", \"beginner\", \"provides\", \"basically\", \"appreciate\", \"main\", \"guidance\", \"highly\", \"breakthrough\", \"introduction\", \"case\", \"regardless\", \"work\", \"field\", \"everybody\", \"u\", \"industrial\", \"influence\", \"professionalsresearchers\", \"believe\", \"picture\", \"money\", \"see\", \"something\", \"4th\", \"provides\", \"appreciate\", \"main\", \"2020\", \"experience\", \"current\", \"want\", \"beginner\", \"basically\", \"extra\", \"july\", \"breakthrough\", \"case\", \"setting\", \"guidance\", \"highly\", \"introduction\", \"book\", \"time\", \"reallife\", \"study\", \"author\", \"regardless\", \"reading\", \"nlp\", \"worth\", \"almost\", \"get\", \"knowledge\", \"level\", \"apply\", \"recommend\", \"well\", \"code\", \"wellorganized\", \"hard\", \"gain\", \"engaging\", \"bring\", \"covid19\", \"is\", \"end\", \"easily\", \"give\", \"like\", \"especially\", \"loosing\", \"word\", \"practical\", \"looking\", \"subject\", \"accompanied\", \"helpful\", \"developer\", \"recognition\", \"star\", \"monochrome\", \"process\", \"texti\", \"new\", \"world\", \"exploring\", \"starter\", \"aspect\", \"wish\", \"beneficial\", \"five\", \"must\", \"named\", \"entity\", \"coloured\", \"nlp\", \"book\", \"first\", \"page\", \"code\", \"reading\", \"read\", \"lot\", \"interested\", \"anyone\", \"business\", \"sure\", \"author\", \"made\", \"diagram\", \"found\"], \"Freq\": [1.0, 1.0, 1.0, 1.0, 1.0, 1.0, 1.0, 1.0, 1.0, 1.0, 1.0, 1.0, 1.0, 1.0, 1.0, 1.0, 1.0, 1.0, 1.0, 1.0, 1.0, 1.0, 1.0, 1.0, 1.0, 1.0, 1.0, 1.0, 1.0, 1.0, 1.3133693100445283, 1.3124404015851867, 0.7879517869749857, 0.7879517869749857, 0.7879517869749857, 0.7879517869749857, 0.7879517869749857, 0.7879517869749857, 0.7879517869749857, 0.7879517869749857, 0.7879517869749857, 0.7879517869749857, 0.7879517869749857, 0.7879517869749857, 0.7879517869749857, 0.7879517869749857, 0.7879517869749857, 0.7879517869749857, 0.7879517869749857, 0.7879517869749857, 0.7879517869749857, 0.7879517869749857, 0.7879517869749857, 0.7879517869749857, 0.7879516862693852, 0.7879516862693852, 0.7879516862693852, 0.7879516862693852, 0.7879516862693852, 0.7879516862693852, 3.9273431931488787, 0.7879516862693852, 0.7879516862693852, 0.7879516862693852, 1.3099172227637639, 0.7879516862693852, 1.3186012681091617, 1.310839283242269, 0.7990218501138767, 0.7916384679521983, 0.7906924898935658, 0.7906924898935658, 0.790692540246366, 0.7906922381295645, 0.789149428329357, 0.7891487233901532, 0.788730442678328, 0.7879516359165849, 0.7879516359165849, 0.7879516359165849, 0.7879516359165849, 0.7879516359165849, 0.7879516359165849, 0.7879516359165849, 1.4970026203200544, 1.4968869889463567, 1.4968806915250776, 1.4968804235497042, 1.496806060383537, 1.4967708216219118, 1.496758092791667, 1.4966838636131865, 1.4966838636131865, 1.4966086965208987, 0.8980620508137807, 0.8980619838199373, 0.8980619838199373, 0.8980619838199373, 0.8980619838199373, 0.8980619838199373, 0.8980619838199373, 0.8980619838199373, 0.8980619838199373, 0.8980619838199373, 0.8980619838199373, 0.8980619838199373, 0.8980619168260939, 0.8980619168260939, 0.8980619168260939, 0.8980619168260939, 0.8980619168260939, 0.8980619168260939, 0.8980619168260939, 0.8980618498322505, 3.8962777875173478, 5.106273959181547, 1.5130055736792234, 1.5130053057038497, 1.4966972623818653, 1.4916267663507605, 0.9254015013705218, 0.9243237714118454, 0.9127344394493049, 0.9127335015354974, 0.907817024350355, 0.9077092312563343, 0.9025751580678488, 0.8980618498322505, 0.8980618498322505, 0.8980618498322505], \"Total\": [1.0, 1.0, 1.0, 1.0, 1.0, 1.0, 1.0, 1.0, 1.0, 1.0, 1.0, 1.0, 1.0, 1.0, 1.0, 1.0, 1.0, 1.0, 1.0, 1.0, 1.0, 1.0, 1.0, 1.0, 1.0, 1.0, 1.0, 1.0, 1.0, 1.0, 1.6130585641747979, 1.6131885269072173, 1.0876350116593498, 1.0876350116593498, 1.0876350116593498, 1.0876350451562715, 1.0876350451562715, 1.0876350451562715, 1.0876350451562715, 1.0876350451562715, 1.0876350451562715, 1.0876350451562715, 1.0876350451562715, 1.0876350786531932, 1.0876350786531932, 1.0876350786531932, 1.0876350786531932, 1.0876350786531932, 1.0876350786531932, 1.0876350786531932, 1.0876350786531932, 1.0876350786531932, 1.0876350786531932, 1.0876351121501149, 1.0876350114445144, 1.0876350114445144, 1.0876350114445144, 1.0876350114445144, 1.0876350114445144, 1.0876350114445144, 9.033617152330425, 1.0876350114445144, 1.0876350114445144, 1.0876350114445144, 2.2124923808316126, 1.0876350114445144, 2.8102280344599224, 5.207117070759617, 1.6850367330393634, 1.686069988404781, 1.6862024102432587, 1.6862023432494153, 1.6862022596145287, 1.6862022924669442, 1.6864182050435113, 1.6864183710242717, 2.285427705060193, 1.0876350615824792, 1.0876350280855576, 1.0876349945886359, 1.0876349945886359, 1.0876349945886359, 1.0876350280855576, 1.0876350280855576, 1.7600425270457873, 1.7600283817410296, 1.7600275224221793, 1.7600274810344072, 1.7600180981569857, 1.760013952249526, 1.7600123262117402, 1.7600033039096066, 1.760003379438807, 1.7599938975744687, 1.161092843682665, 1.161092827041622, 1.161092827041622, 1.1610928522180222, 1.1610928522180222, 1.1610928522180222, 1.1610928522180222, 1.1610928773944222, 1.1610928773944222, 1.1610928773944222, 1.1610929025708225, 1.1610929025708225, 1.1610928355769792, 1.1610928355769792, 1.1610928859297793, 1.1610928859297793, 1.1610928859297793, 1.1610928859297793, 1.1610928859297793, 1.161092844112336, 5.207117070759617, 9.033617152330425, 2.2874296276870436, 2.2874296618284715, 2.285427705060193, 2.8102280344599224, 1.6898717634685894, 1.689739407334942, 1.6883167589216868, 1.6883166266526837, 1.687713219280086, 1.6876999887449684, 2.2124923808316126, 1.161092844112336, 1.1610928692887361, 1.161092844112336], \"Category\": [\"Default\", \"Default\", \"Default\", \"Default\", \"Default\", \"Default\", \"Default\", \"Default\", \"Default\", \"Default\", \"Default\", \"Default\", \"Default\", \"Default\", \"Default\", \"Default\", \"Default\", \"Default\", \"Default\", \"Default\", \"Default\", \"Default\", \"Default\", \"Default\", \"Default\", \"Default\", \"Default\", \"Default\", \"Default\", \"Default\", \"Topic1\", \"Topic1\", \"Topic1\", \"Topic1\", \"Topic1\", \"Topic1\", \"Topic1\", \"Topic1\", \"Topic1\", \"Topic1\", \"Topic1\", \"Topic1\", \"Topic1\", \"Topic1\", \"Topic1\", \"Topic1\", \"Topic1\", \"Topic1\", \"Topic1\", \"Topic1\", \"Topic1\", \"Topic1\", \"Topic1\", \"Topic1\", \"Topic1\", \"Topic1\", \"Topic1\", \"Topic1\", \"Topic1\", \"Topic1\", \"Topic1\", \"Topic1\", \"Topic1\", \"Topic1\", \"Topic1\", \"Topic1\", \"Topic1\", \"Topic1\", \"Topic1\", \"Topic1\", \"Topic1\", \"Topic1\", \"Topic1\", \"Topic1\", \"Topic1\", \"Topic1\", \"Topic1\", \"Topic1\", \"Topic1\", \"Topic1\", \"Topic1\", \"Topic1\", \"Topic1\", \"Topic1\", \"Topic2\", \"Topic2\", \"Topic2\", \"Topic2\", \"Topic2\", \"Topic2\", \"Topic2\", \"Topic2\", \"Topic2\", \"Topic2\", \"Topic2\", \"Topic2\", \"Topic2\", \"Topic2\", \"Topic2\", \"Topic2\", \"Topic2\", \"Topic2\", \"Topic2\", \"Topic2\", \"Topic2\", \"Topic2\", \"Topic2\", \"Topic2\", \"Topic2\", \"Topic2\", \"Topic2\", \"Topic2\", \"Topic2\", \"Topic2\", \"Topic2\", \"Topic2\", \"Topic2\", \"Topic2\", \"Topic2\", \"Topic2\", \"Topic2\", \"Topic2\", \"Topic2\", \"Topic2\", \"Topic2\", \"Topic2\", \"Topic2\", \"Topic2\", \"Topic2\", \"Topic2\"], \"logprob\": [30.0, 29.0, 28.0, 27.0, 26.0, 25.0, 24.0, 23.0, 22.0, 21.0, 20.0, 19.0, 18.0, 17.0, 16.0, 15.0, 14.0, 13.0, 12.0, 11.0, 10.0, 9.0, 8.0, 7.0, 6.0, 5.0, 4.0, 3.0, 2.0, 1.0, -4.410799980163574, -4.411499977111816, -4.9217000007629395, -4.9217000007629395, -4.9217000007629395, -4.9217000007629395, -4.9217000007629395, -4.9217000007629395, -4.9217000007629395, -4.9217000007629395, -4.9217000007629395, -4.9217000007629395, -4.9217000007629395, -4.9217000007629395, -4.9217000007629395, -4.9217000007629395, -4.9217000007629395, -4.9217000007629395, -4.9217000007629395, -4.9217000007629395, -4.9217000007629395, -4.9217000007629395, -4.9217000007629395, -4.9217000007629395, -4.9217000007629395, -4.9217000007629395, -4.9217000007629395, -4.9217000007629395, -4.9217000007629395, -4.9217000007629395, -3.3153998851776123, -4.9217000007629395, -4.9217000007629395, -4.9217000007629395, -4.413400173187256, -4.9217000007629395, -4.406799793243408, -4.412700176239014, -4.907700061798096, -4.916999816894531, -4.9182000160217285, -4.9182000160217285, -4.9182000160217285, -4.9182000160217285, -4.920199871063232, -4.920199871063232, -4.9207000732421875, -4.9217000007629395, -4.9217000007629395, -4.9217000007629395, -4.9217000007629395, -4.9217000007629395, -4.9217000007629395, -4.9217000007629395, -4.565400123596191, -4.565499782562256, -4.565499782562256, -4.565499782562256, -4.5655999183654785, -4.5655999183654785, -4.5655999183654785, -4.5655999183654785, -4.5655999183654785, -4.565700054168701, -5.076399803161621, -5.076399803161621, -5.076399803161621, -5.076399803161621, -5.076399803161621, -5.076399803161621, -5.076399803161621, -5.076399803161621, -5.076399803161621, -5.076399803161621, -5.076399803161621, -5.076399803161621, -5.076399803161621, -5.076399803161621, -5.076399803161621, -5.076399803161621, -5.076399803161621, -5.076399803161621, -5.076399803161621, -5.076399803161621, -3.6089000701904297, -3.338399887084961, -4.554800033569336, -4.554800033569336, -4.5655999183654785, -4.568999767303467, -5.04640007019043, -5.047599792480469, -5.060200214385986, -5.060200214385986, -5.0655999183654785, -5.065700054168701, -5.071400165557861, -5.076399803161621, -5.076399803161621, -5.076399803161621], \"loglift\": [30.0, 29.0, 28.0, 27.0, 26.0, 25.0, 24.0, 23.0, 22.0, 21.0, 20.0, 19.0, 18.0, 17.0, 16.0, 15.0, 14.0, 13.0, 12.0, 11.0, 10.0, 9.0, 8.0, 7.0, 6.0, 5.0, 4.0, 3.0, 2.0, 1.0, 0.6405, 0.6398, 0.5238, 0.5238, 0.5238, 0.5238, 0.5238, 0.5238, 0.5238, 0.5238, 0.5238, 0.5238, 0.5238, 0.5238, 0.5238, 0.5238, 0.5238, 0.5238, 0.5238, 0.5238, 0.5238, 0.5238, 0.5238, 0.5238, 0.5238, 0.5238, 0.5238, 0.5238, 0.5238, 0.5238, 0.0131, 0.5238, 0.5238, 0.5238, 0.3219, 0.5238, 0.0894, -0.5333, 0.0999, 0.09, 0.0888, 0.0888, 0.0888, 0.0888, 0.0867, 0.0867, -0.2178, 0.5238, 0.5238, 0.5238, 0.5238, 0.5238, 0.5238, 0.5238, 0.3987, 0.3986, 0.3986, 0.3986, 0.3985, 0.3985, 0.3985, 0.3985, 0.3985, 0.3984, 0.3037, 0.3037, 0.3037, 0.3037, 0.3037, 0.3037, 0.3037, 0.3037, 0.3037, 0.3037, 0.3037, 0.3037, 0.3037, 0.3037, 0.3037, 0.3037, 0.3037, 0.3037, 0.3037, 0.3037, 0.2705, -0.01, 0.1472, 0.1472, 0.1372, -0.0729, -0.0416, -0.0427, -0.0545, -0.0545, -0.0596, -0.0597, -0.3361, 0.3037, 0.3037, 0.3037]}, \"token.table\": {\"Topic\": [1, 1, 2, 1, 2, 1, 2, 1, 2, 1, 2, 1, 2, 1, 1, 1, 2, 1, 2, 1, 1, 1, 2, 1, 1, 2, 2, 1, 1, 2, 2, 2, 2, 1, 2, 2, 1, 1, 2, 1, 1, 1, 2, 2, 2, 1, 1, 2, 2, 1, 1, 2, 1, 1, 1, 1, 2, 1, 1, 1, 1, 2, 1, 2, 2, 2, 2, 1, 2, 2, 1, 1, 2, 2, 2, 2, 1, 2, 1, 2, 1, 2, 2, 1, 1, 1, 2, 1, 2, 1, 2, 1, 2, 1, 1, 1, 1, 2, 2, 1, 2, 1, 2, 2, 1, 1, 1, 1, 2, 1, 2, 2, 1, 2, 1, 2], \"Freq\": [0.9194260277429533, 0.9194260560593833, 0.8612575690573346, 0.5930951899251328, 0.5930951899251328, 0.5923059598024781, 0.5923059598024781, 0.5930486540478972, 0.5930486540478972, 0.9194260277429533, 0.8612575750698456, 0.45197895760623075, 0.45197895760623075, 0.9194260277429533, 0.9194260277429533, 0.9194260560593833, 0.861257537719922, 0.4427905159748894, 0.5534881449686118, 0.919426084557425, 0.9194260988064464, 0.592517726694445, 0.592517726694445, 0.919426084557425, 0.43755486020664225, 0.43755486020664225, 0.8612575687386199, 0.9194260704900138, 0.9194260277429533, 0.8612575814010714, 0.861257550063658, 0.5681726558356943, 0.5681680894827521, 0.9194260988064464, 0.861257537719922, 0.5681759756034079, 0.9194260843758151, 0.9194260277429533, 0.8612575253761863, 0.9194260277429533, 0.6198903496525519, 0.4371719190378589, 0.8743438380757178, 0.861257537719922, 0.8612575687386199, 0.9194260988064464, 0.5930486126251805, 0.5930486126251805, 0.5681729332412844, 0.919426084557425, 0.9194260704900138, 0.8612575814010714, 0.919426084557425, 0.9194260843758151, 0.9194260560593833, 0.5923059133990303, 0.5923059133990303, 0.919426084557425, 0.9194260704900138, 0.919425999426525, 0.5930486361873621, 0.5930486361873621, 0.5930486656023123, 0.5930486656023123, 0.5681729466021053, 0.5681807271977279, 0.5681773140047387, 0.5918072311382029, 0.5918072311382029, 0.8612575687386199, 0.9194260277429533, 0.9194260560593833, 0.861257562726109, 0.861257537719922, 0.861257537719922, 0.8612575440511473, 0.19204484677624492, 0.7681793871049797, 0.43717191251277365, 0.8743438250255473, 0.9194260560593833, 0.5681807515807707, 0.861257562726109, 0.9194260560593833, 0.9194260277429533, 0.5917608789127433, 0.5917608789127433, 0.35584300908598077, 0.35584300908598077, 0.919426084557425, 0.861257562726109, 0.5929727258691441, 0.5929727258691441, 0.919426084557425, 0.9194260560593833, 0.919426084557425, 0.9194260560593833, 0.861257562726109, 0.8612575253761863, 0.919426084557425, 0.5681837882382136, 0.592522371670829, 0.592522371670829, 0.8612575440511473, 0.919426084557425, 0.9194260843758151, 0.9194260277429533, 0.5929726675075503, 0.5929726675075503, 0.9194260421735829, 0.8612575750698456, 0.56817783893162, 0.6199402936815106, 0.8612575440511473, 0.5934588726717327, 0.5934588726717327], \"Term\": [\"2020\", \"4th\", \"accompanied\", \"almost\", \"almost\", \"anyone\", \"anyone\", \"apply\", \"apply\", \"appreciate\", \"aspect\", \"author\", \"author\", \"basically\", \"beginner\", \"believe\", \"beneficial\", \"book\", \"book\", \"breakthrough\", \"bring\", \"business\", \"business\", \"case\", \"code\", \"code\", \"coloured\", \"covid19\", \"current\", \"developer\", \"diagram\", \"easily\", \"end\", \"engaging\", \"entity\", \"especially\", \"everybody\", \"experience\", \"exploring\", \"extra\", \"field\", \"first\", \"first\", \"five\", \"found\", \"gain\", \"get\", \"get\", \"give\", \"guidance\", \"hard\", \"helpful\", \"highly\", \"industrial\", \"influence\", \"interested\", \"interested\", \"introduction\", \"is\", \"july\", \"knowledge\", \"knowledge\", \"level\", \"level\", \"like\", \"looking\", \"loosing\", \"lot\", \"lot\", \"made\", \"main\", \"money\", \"monochrome\", \"must\", \"named\", \"new\", \"nlp\", \"nlp\", \"page\", \"page\", \"picture\", \"practical\", \"process\", \"professionalsresearchers\", \"provides\", \"read\", \"read\", \"reading\", \"reading\", \"reallife\", \"recognition\", \"recommend\", \"recommend\", \"regardless\", \"see\", \"setting\", \"something\", \"star\", \"starter\", \"study\", \"subject\", \"sure\", \"sure\", \"texti\", \"time\", \"u\", \"want\", \"well\", \"well\", \"wellorganized\", \"wish\", \"word\", \"work\", \"world\", \"worth\", \"worth\"]}, \"R\": 30, \"lambda.step\": 0.01, \"plot.opts\": {\"xlab\": \"PC1\", \"ylab\": \"PC2\"}, \"topic.order\": [1, 2]};\n",
       "\n",
       "function LDAvis_load_lib(url, callback){\n",
       "  var s = document.createElement('script');\n",
       "  s.src = url;\n",
       "  s.async = true;\n",
       "  s.onreadystatechange = s.onload = callback;\n",
       "  s.onerror = function(){console.warn(\"failed to load library \" + url);};\n",
       "  document.getElementsByTagName(\"head\")[0].appendChild(s);\n",
       "}\n",
       "\n",
       "if(typeof(LDAvis) !== \"undefined\"){\n",
       "   // already loaded: just create the visualization\n",
       "   !function(LDAvis){\n",
       "       new LDAvis(\"#\" + \"ldavis_el601406661704020007271602483\", ldavis_el601406661704020007271602483_data);\n",
       "   }(LDAvis);\n",
       "}else if(typeof define === \"function\" && define.amd){\n",
       "   // require.js is available: use it to load d3/LDAvis\n",
       "   require.config({paths: {d3: \"https://cdnjs.cloudflare.com/ajax/libs/d3/3.5.5/d3.min\"}});\n",
       "   require([\"d3\"], function(d3){\n",
       "      window.d3 = d3;\n",
       "      LDAvis_load_lib(\"https://cdn.rawgit.com/bmabey/pyLDAvis/files/ldavis.v1.0.0.js\", function(){\n",
       "        new LDAvis(\"#\" + \"ldavis_el601406661704020007271602483\", ldavis_el601406661704020007271602483_data);\n",
       "      });\n",
       "    });\n",
       "}else{\n",
       "    // require.js not available: dynamically load d3 & LDAvis\n",
       "    LDAvis_load_lib(\"https://cdnjs.cloudflare.com/ajax/libs/d3/3.5.5/d3.min.js\", function(){\n",
       "         LDAvis_load_lib(\"https://cdn.rawgit.com/bmabey/pyLDAvis/files/ldavis.v1.0.0.js\", function(){\n",
       "                 new LDAvis(\"#\" + \"ldavis_el601406661704020007271602483\", ldavis_el601406661704020007271602483_data);\n",
       "            })\n",
       "         });\n",
       "}\n",
       "</script>"
      ],
      "text/plain": [
       "<IPython.core.display.HTML object>"
      ]
     },
     "execution_count": 20,
     "metadata": {},
     "output_type": "execute_result"
    }
   ],
   "source": [
    "!pip install pyLDAvis==2.1.2\n",
    "import pyLDAvis.gensim \n",
    "lda_display = pyLDAvis.gensim.prepare(ldamodel, term_matrix, dictionary, sort_topics=False, mds='mmds')\n",
    "pyLDAvis.display(lda_display)\n"
   ]
  },
  {
   "cell_type": "markdown",
   "metadata": {
    "id": "WjfdyKKCyTqk"
   },
   "source": [
    "**Step 13: Assign the topics to the statements (corpus)**"
   ]
  },
  {
   "cell_type": "code",
   "execution_count": null,
   "metadata": {
    "colab": {
     "base_uri": "https://localhost:8080/"
    },
    "id": "BhcIQMhQyZvb",
    "outputId": "dd82e734-eaa4-4cee-e0a9-7f6492d393b4"
   },
   "outputs": [
    {
     "data": {
      "text/plain": [
       "[[(0, 0.01847697), (1, 0.98152304)],\n",
       " [(0, 0.9447996), (1, 0.055200405)],\n",
       " [(0, 0.937978), (1, 0.062022015)],\n",
       " [(0, 0.023130732), (1, 0.9768693)],\n",
       " [(0, 0.0179908), (1, 0.98200923)],\n",
       " [(0, 0.99138504), (1, 0.0086149955)],\n",
       " [(0, 0.01106158), (1, 0.9889384)],\n",
       " [(0, 0.94481105), (1, 0.055188894)],\n",
       " [(0, 0.87647784), (1, 0.123522185)],\n",
       " [(0, 0.9236009), (1, 0.076399125)],\n",
       " [(0, 0.05484683), (1, 0.9451531)],\n",
       " [(0, 0.9226702), (1, 0.07732981)]]"
      ]
     },
     "execution_count": 21,
     "metadata": {},
     "output_type": "execute_result"
    }
   ],
   "source": [
    "lda_corpus = ldamodel[term_matrix]\n",
    "[doc for doc in lda_corpus]"
   ]
  },
  {
   "cell_type": "markdown",
   "metadata": {
    "id": "HqQZJSm7zrAw"
   },
   "source": [
    "**Step 14: classify the statements into clusters**"
   ]
  },
  {
   "cell_type": "code",
   "execution_count": null,
   "metadata": {
    "colab": {
     "base_uri": "https://localhost:8080/"
    },
    "id": "j1dA10GJz5nt",
    "outputId": "ebd0ad24-c2a3-46c4-a295-cba7ab3054d1"
   },
   "outputs": [
    {
     "name": "stdout",
     "output_type": "stream",
     "text": [
      "7\n",
      "5\n"
     ]
    }
   ],
   "source": [
    "threshold=0.8\n",
    "cluster1 = [j for i,j in zip(lda_corpus,DataF.index) if i[0][1] > threshold]\n",
    "cluster2 = [j for i,j in zip(lda_corpus,DataF.index) if i[1][1] > threshold]\n",
    "print(len(cluster1))\n",
    "print(len(cluster2))"
   ]
  },
  {
   "cell_type": "code",
   "execution_count": null,
   "metadata": {
    "colab": {
     "base_uri": "https://localhost:8080/",
     "height": 373
    },
    "id": "492l8amv0Sw5",
    "outputId": "96e50b56-d415-4d67-ba36-6af8569a9103"
   },
   "outputs": [
    {
     "data": {
      "text/html": [
       "<div>\n",
       "<style scoped>\n",
       "    .dataframe tbody tr th:only-of-type {\n",
       "        vertical-align: middle;\n",
       "    }\n",
       "\n",
       "    .dataframe tbody tr th {\n",
       "        vertical-align: top;\n",
       "    }\n",
       "\n",
       "    .dataframe thead th {\n",
       "        text-align: right;\n",
       "    }\n",
       "</style>\n",
       "<table border=\"1\" class=\"dataframe\">\n",
       "  <thead>\n",
       "    <tr style=\"text-align: right;\">\n",
       "      <th></th>\n",
       "      <th>code</th>\n",
       "      <th>Comments</th>\n",
       "      <th>Polarity</th>\n",
       "      <th>PolarAnalysis</th>\n",
       "      <th>Subjectivity</th>\n",
       "      <th>Comments_clean</th>\n",
       "    </tr>\n",
       "  </thead>\n",
       "  <tbody>\n",
       "    <tr>\n",
       "      <th>1</th>\n",
       "      <td>2</td>\n",
       "      <td>B/W edition...the feel of the pages of an auth...</td>\n",
       "      <td>0.150000</td>\n",
       "      <td>Positive</td>\n",
       "      <td>0.400000</td>\n",
       "      <td>[bw, editionthe, feel, page, authentic, rielly...</td>\n",
       "    </tr>\n",
       "    <tr>\n",
       "      <th>2</th>\n",
       "      <td>3</td>\n",
       "      <td>Love the book but not sure why it’s in black a...</td>\n",
       "      <td>0.020833</td>\n",
       "      <td>Positive</td>\n",
       "      <td>0.480556</td>\n",
       "      <td>[love, book, sure, it’s, black, white, image, ...</td>\n",
       "    </tr>\n",
       "    <tr>\n",
       "      <th>5</th>\n",
       "      <td>6</td>\n",
       "      <td>This book is an introduction on how to apply N...</td>\n",
       "      <td>0.054750</td>\n",
       "      <td>Positive</td>\n",
       "      <td>0.341500</td>\n",
       "      <td>[book, introduction, apply, nlp, industrial, s...</td>\n",
       "    </tr>\n",
       "    <tr>\n",
       "      <th>7</th>\n",
       "      <td>8</td>\n",
       "      <td>I've only finished the first chapter, but the ...</td>\n",
       "      <td>-0.125000</td>\n",
       "      <td>Negative</td>\n",
       "      <td>0.595833</td>\n",
       "      <td>[ive, finished, first, chapter, quality, writi...</td>\n",
       "    </tr>\n",
       "    <tr>\n",
       "      <th>8</th>\n",
       "      <td>9</td>\n",
       "      <td>Lots of information and fun to read.</td>\n",
       "      <td>0.300000</td>\n",
       "      <td>Positive</td>\n",
       "      <td>0.200000</td>\n",
       "      <td>[lot, information, fun, read]</td>\n",
       "    </tr>\n",
       "    <tr>\n",
       "      <th>9</th>\n",
       "      <td>10</td>\n",
       "      <td>The authors intent this book to be for anyone ...</td>\n",
       "      <td>0.250000</td>\n",
       "      <td>Positive</td>\n",
       "      <td>0.500000</td>\n",
       "      <td>[author, intent, book, anyone, interested, wor...</td>\n",
       "    </tr>\n",
       "    <tr>\n",
       "      <th>11</th>\n",
       "      <td>12</td>\n",
       "      <td>Ordered as part of my Business Analytics cours...</td>\n",
       "      <td>0.000000</td>\n",
       "      <td>Neutral</td>\n",
       "      <td>0.000000</td>\n",
       "      <td>[ordered, part, business, analytics, course, m...</td>\n",
       "    </tr>\n",
       "  </tbody>\n",
       "</table>\n",
       "</div>"
      ],
      "text/plain": [
       "    code  ...                                     Comments_clean\n",
       "1      2  ...  [bw, editionthe, feel, page, authentic, rielly...\n",
       "2      3  ...  [love, book, sure, it’s, black, white, image, ...\n",
       "5      6  ...  [book, introduction, apply, nlp, industrial, s...\n",
       "7      8  ...  [ive, finished, first, chapter, quality, writi...\n",
       "8      9  ...                      [lot, information, fun, read]\n",
       "9     10  ...  [author, intent, book, anyone, interested, wor...\n",
       "11    12  ...  [ordered, part, business, analytics, course, m...\n",
       "\n",
       "[7 rows x 6 columns]"
      ]
     },
     "execution_count": 23,
     "metadata": {},
     "output_type": "execute_result"
    }
   ],
   "source": [
    "DataF.iloc[cluster1]"
   ]
  },
  {
   "cell_type": "code",
   "execution_count": null,
   "metadata": {
    "colab": {
     "base_uri": "https://localhost:8080/",
     "height": 293
    },
    "id": "Yxbo7dtv0dYz",
    "outputId": "49733114-94a2-491c-a037-c183336fae53"
   },
   "outputs": [
    {
     "data": {
      "text/html": [
       "<div>\n",
       "<style scoped>\n",
       "    .dataframe tbody tr th:only-of-type {\n",
       "        vertical-align: middle;\n",
       "    }\n",
       "\n",
       "    .dataframe tbody tr th {\n",
       "        vertical-align: top;\n",
       "    }\n",
       "\n",
       "    .dataframe thead th {\n",
       "        text-align: right;\n",
       "    }\n",
       "</style>\n",
       "<table border=\"1\" class=\"dataframe\">\n",
       "  <thead>\n",
       "    <tr style=\"text-align: right;\">\n",
       "      <th></th>\n",
       "      <th>code</th>\n",
       "      <th>Comments</th>\n",
       "      <th>Polarity</th>\n",
       "      <th>PolarAnalysis</th>\n",
       "      <th>Subjectivity</th>\n",
       "      <th>Comments_clean</th>\n",
       "    </tr>\n",
       "  </thead>\n",
       "  <tbody>\n",
       "    <tr>\n",
       "      <th>0</th>\n",
       "      <td>1</td>\n",
       "      <td>First copy started loosing pages from the firs...</td>\n",
       "      <td>0.255556</td>\n",
       "      <td>Positive</td>\n",
       "      <td>0.470833</td>\n",
       "      <td>[first, copy, started, loosing, page, first, r...</td>\n",
       "    </tr>\n",
       "    <tr>\n",
       "      <th>3</th>\n",
       "      <td>4</td>\n",
       "      <td>It covers a lot of subjects but very superfici...</td>\n",
       "      <td>0.055556</td>\n",
       "      <td>Positive</td>\n",
       "      <td>0.611111</td>\n",
       "      <td>[cover, lot, subject, superficially, us, almos...</td>\n",
       "    </tr>\n",
       "    <tr>\n",
       "      <th>4</th>\n",
       "      <td>5</td>\n",
       "      <td>.. the word \"practical\" in the title might mak...</td>\n",
       "      <td>0.480000</td>\n",
       "      <td>Positive</td>\n",
       "      <td>0.645000</td>\n",
       "      <td>[word, practical, title, might, make, think, w...</td>\n",
       "    </tr>\n",
       "    <tr>\n",
       "      <th>6</th>\n",
       "      <td>7</td>\n",
       "      <td>As a new starter in NLP, I found this book ver...</td>\n",
       "      <td>0.245671</td>\n",
       "      <td>Positive</td>\n",
       "      <td>0.610967</td>\n",
       "      <td>[new, starter, nlp, found, book, helpful, auth...</td>\n",
       "    </tr>\n",
       "    <tr>\n",
       "      <th>10</th>\n",
       "      <td>11</td>\n",
       "      <td>As others have mentioned, the Kindle version i...</td>\n",
       "      <td>0.300000</td>\n",
       "      <td>Positive</td>\n",
       "      <td>0.100000</td>\n",
       "      <td>[others, mentioned, kindle, version, horrrrrri...</td>\n",
       "    </tr>\n",
       "  </tbody>\n",
       "</table>\n",
       "</div>"
      ],
      "text/plain": [
       "    code  ...                                     Comments_clean\n",
       "0      1  ...  [first, copy, started, loosing, page, first, r...\n",
       "3      4  ...  [cover, lot, subject, superficially, us, almos...\n",
       "4      5  ...  [word, practical, title, might, make, think, w...\n",
       "6      7  ...  [new, starter, nlp, found, book, helpful, auth...\n",
       "10    11  ...  [others, mentioned, kindle, version, horrrrrri...\n",
       "\n",
       "[5 rows x 6 columns]"
      ]
     },
     "execution_count": 24,
     "metadata": {},
     "output_type": "execute_result"
    }
   ],
   "source": [
    "DataF.iloc[cluster2]"
   ]
  },
  {
   "cell_type": "code",
   "execution_count": null,
   "metadata": {
    "id": "AfGuCGjnbFtx"
   },
   "outputs": [],
   "source": []
  }
 ],
 "metadata": {
  "colab": {
   "name": "Copy of SA-Polarity.ipynb",
   "provenance": [],
   "toc_visible": true
  },
  "kernelspec": {
   "display_name": "Python 3 (ipykernel)",
   "language": "python",
   "name": "python3"
  },
  "language_info": {
   "codemirror_mode": {
    "name": "ipython",
    "version": 3
   },
   "file_extension": ".py",
   "mimetype": "text/x-python",
   "name": "python",
   "nbconvert_exporter": "python",
   "pygments_lexer": "ipython3",
   "version": "3.11.5"
  }
 },
 "nbformat": 4,
 "nbformat_minor": 1
}
